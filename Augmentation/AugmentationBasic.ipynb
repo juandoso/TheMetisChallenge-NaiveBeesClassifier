{
 "cells": [
  {
   "cell_type": "code",
   "execution_count": null,
   "metadata": {
    "collapsed": false
   },
   "outputs": [],
   "source": [
    "from PIL import Image\n",
    "import pandas as pd\n",
    "import random\n",
    "\n",
    "datadir = \"/home/ubuntu/kaggle/NaiveBees\"\n",
    "datadir = \"F:/TheMetisChallenge-NaiveBeesClassifier/\"\n",
    "\n",
    "labelsD = pd.read_csv(datadir + '/train.csv')\n",
    "validationRatio = 0.2\n",
    "notAugmentOnValidation = True\n",
    "\n",
    "import shutil, os\n",
    "for d in [\"trainDir\", \"valDir\"]:\n",
    "    dir = \"%s/%s\" % (datadir, d)\n",
    "    if not os.path.exists(dir):\n",
    "        os.mkdir(dir)\n",
    "\n",
    "for cl in [\"Bombus\", \"Apis\"]:\n",
    "    dir = \"%s/trainDir/%s\" % (datadir, cl)\n",
    "    if not os.path.exists(dir):\n",
    "        os.mkdir(dir)\n",
    "        \n",
    "for cl in [\"Bombus\", \"Apis\"]:\n",
    "    dir = \"%s/valDir/%s\" % (datadir, cl)\n",
    "    if not os.path.exists(dir):\n",
    "        os.mkdir(dir)\n",
    "\n",
    "for element in labelsD.iterrows():\n",
    "    v = random.random()\n",
    "    if v < validationRatio:\n",
    "        dir = \"%s/valDir/%s\" % (datadir, \"Bombus\" if element[1]['genus'] > 0.49 else \"Apis\")\n",
    "    else:\n",
    "        dir = \"%s/trainDir/%s\" % (datadir, \"Bombus\" if element[1]['genus'] > 0.49 else \"Apis\")\n",
    "    \n",
    "    origin = \"%s/train/%d.jpg\" % (datadir, element[1]['id'])\n",
    "    dest = \"%s/%d.jpg\" % (dir, element[1]['id'])\n",
    "    shutil.copy(origin, dest)\n",
    "    \n",
    "    if v < validationRatio and notAugmentOnValidation:\n",
    "        continue\n",
    "    \n",
    "    im = Image.open(origin)\n",
    "    \n",
    "    out1 = im.transpose(Image.FLIP_LEFT_RIGHT)\n",
    "    dest1 = \"%s/910%d.jpg\" % (dir, element[1]['id'])\n",
    "    out1.save(dest1)\n",
    "    \n",
    "    out2 = im.transpose(Image.ROTATE_90)\n",
    "    out3 = im.transpose(Image.ROTATE_270)\n",
    "    dest2 = \"%s/920%d.jpg\" % (dir, element[1]['id'])\n",
    "    dest3 = \"%s/930%d.jpg\" % (dir, element[1]['id'])\n",
    "    out2.save(dest2)\n",
    "    out3.save(dest3)"
   ]
  },
  {
   "cell_type": "code",
   "execution_count": 2,
   "metadata": {
    "collapsed": false
   },
   "outputs": [],
   "source": [
    "for d in [\"trainDir\", \"testDir\"]:\n",
    "    dir = \"%s/%s\" % (datadir, d)\n",
    "    if not os.path.exists(dir):\n",
    "        os.mkdir(dir)\n",
    "\n",
    "labelsT = pd.read_csv(datadir + '/SubmissionFormat.csv')\n",
    "\n",
    "for element in labelsT.iterrows():\n",
    "    dir = \"%s/testDir/\"  % (datadir)\n",
    "    origin = \"%s/test/%d.jpg\" % (datadir, element[1]['id'])\n",
    "    dest = \"%s/%d.jpg\" % (dir, element[1]['id'])\n",
    "    shutil.copy(origin, dest)\n",
    "    \n",
    "    im = Image.open(origin)\n",
    "    \n",
    "    out1 = im.transpose(Image.FLIP_LEFT_RIGHT)\n",
    "    dest1 = \"%s/910%d.jpg\" % (dir, element[1]['id'])\n",
    "    out1.save(dest1)\n",
    "    \n",
    "    out2 = im.transpose(Image.ROTATE_90)\n",
    "    out3 = im.transpose(Image.ROTATE_270)\n",
    "    dest2 = \"%s/912%d.jpg\" % (dir, element[1]['id'])\n",
    "    dest3 = \"%s/913%d.jpg\" % (dir, element[1]['id'])\n",
    "    out2.save(dest2)\n",
    "    out3.save(dest3)"
   ]
  },
  {
   "cell_type": "code",
   "execution_count": 4,
   "metadata": {
    "collapsed": false
   },
   "outputs": [],
   "source": [
    "import os\n",
    "dir = \"%s/testDir/\"  % (datadir)\n",
    "testset = os.listdir(dir)\n",
    "newtestset = [\"%s%s\" % (dir, x) for x in testset]"
   ]
  },
  {
   "cell_type": "code",
   "execution_count": 9,
   "metadata": {
    "collapsed": false
   },
   "outputs": [],
   "source": [
    "dfnts = pd.DataFrame(newtestset)\n",
    "dfnts.to_csv(datadir + \"/newtestset.csv\", index=False)"
   ]
  },
  {
   "cell_type": "code",
   "execution_count": null,
   "metadata": {
    "collapsed": false
   },
   "outputs": [],
   "source": []
  }
 ],
 "metadata": {
  "kernelspec": {
   "display_name": "Python 2",
   "language": "python",
   "name": "python2"
  },
  "language_info": {
   "codemirror_mode": {
    "name": "ipython",
    "version": 2
   },
   "file_extension": ".py",
   "mimetype": "text/x-python",
   "name": "python",
   "nbconvert_exporter": "python",
   "pygments_lexer": "ipython2",
   "version": "2.7.10"
  }
 },
 "nbformat": 4,
 "nbformat_minor": 0
}
